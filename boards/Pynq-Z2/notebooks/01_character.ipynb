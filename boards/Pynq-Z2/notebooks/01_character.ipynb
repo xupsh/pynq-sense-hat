{
 "cells": [
  {
   "cell_type": "markdown",
   "metadata": {},
   "source": [
    "# Sense HAT for PYNQ:Character display\n",
    "\n",
    "This notebook illustrates how to interact with the [Sense HAT](https://www.raspberrypi.org/products/sense-hat/) and display character on the LED matrix of Sense HAT.\n",
    "\n",
    "\n",
    "This example notebook includes the following steps.\n",
    "1. import python libraries\n",
    "2. select RPi switch and using Microblaze Library\n",
    "3. configure the I2C device\n",
    "4. convert characters\n",
    "5. waiting for user's input and display on the Sense HAT LED matrix\n",
    "\n",
    "![PYNQ with Sense HAT](data/PYNQ_with_Sense_HAT.jpg)\n"
   ]
  },
  {
   "cell_type": "markdown",
   "metadata": {},
   "source": [
    "### 1. Sense HAT Introduction\n",
    "\n",
    "The Sense HAT, which is a fundamental part of the [Astro Pi](https://astro-pi.org/) mission, allows your board to sense the world around it.It has a 8×8 RGB LED matrix, a five-button joystick and includes the following sensors:\n",
    "\n",
    "* Gyroscope\n",
    "* Accelerometer\n",
    "* Magnetometer\n",
    "* Temperature\n",
    "* Barometric pressure\n",
    "* Humidity\n",
    "\n",
    "![Sense HAT add-on board](data/Sense_HAT.jpg)\n"
   ]
  },
  {
   "cell_type": "markdown",
   "metadata": {},
   "source": [
    "### 2. Prepare the overlay\n",
    "Download the overlay first, then select the shared pin to be connected to\n",
    "RPi header (by default, the pins will be connected to PMODA instead)."
   ]
  },
  {
   "cell_type": "code",
   "execution_count": 1,
   "metadata": {},
   "outputs": [
    {
     "data": {
      "application/javascript": [
       "\n",
       "require(['notebook/js/codecell'], function(codecell) {\n",
       "  codecell.CodeCell.options_default.highlight_modes[\n",
       "      'magic_text/x-csrc'] = {'reg':[/^%%microblaze/]};\n",
       "  Jupyter.notebook.events.one('kernel_ready.Kernel', function(){\n",
       "      Jupyter.notebook.get_cells().map(function(cell){\n",
       "          if (cell.cell_type == 'code'){ cell.auto_highlight(); } }) ;\n",
       "  });\n",
       "});\n"
      ]
     },
     "metadata": {},
     "output_type": "display_data"
    }
   ],
   "source": [
    "from pynq.overlays.base import BaseOverlay\n",
    "from pynq.lib import MicroblazeLibrary\n",
    "from PIL import Image\n",
    "import time\n",
    "import numpy as np"
   ]
  },
  {
   "cell_type": "code",
   "execution_count": 2,
   "metadata": {},
   "outputs": [],
   "source": [
    "base = BaseOverlay('base.bit')\n",
    "base.select_rpi()\n",
    "lib = MicroblazeLibrary(base.RPI, ['i2c','xio_switch','circular_buffer'])"
   ]
  },
  {
   "cell_type": "markdown",
   "metadata": {},
   "source": [
    "### 3. Configure the I2C device\n",
    "Initialize the I2C device and set the I2C pin of RPi header "
   ]
  },
  {
   "cell_type": "code",
   "execution_count": 3,
   "metadata": {},
   "outputs": [],
   "source": [
    "device = lib.i2c_open_device(1)\n",
    "lib.set_pin(2, lib.SDA1)\n",
    "lib.set_pin(3, lib.SCL1)"
   ]
  },
  {
   "cell_type": "code",
   "execution_count": 4,
   "metadata": {},
   "outputs": [],
   "source": [
    "LED_MATRIX_ADDRESS = 0x46"
   ]
  },
  {
   "cell_type": "markdown",
   "metadata": {},
   "source": [
    "### 4. Convert characters\n",
    "Convert characters to pixels"
   ]
  },
  {
   "cell_type": "code",
   "execution_count": 5,
   "metadata": {},
   "outputs": [],
   "source": [
    "img = Image.open(\"./data/sense_hat_text.png\").convert('RGB')\n",
    "text = open(\"./data/sense_hat_text.txt\", 'r').read()\n",
    "text_pixels = list(map(list, img.getdata()))"
   ]
  },
  {
   "cell_type": "code",
   "execution_count": 6,
   "metadata": {},
   "outputs": [],
   "source": [
    "text_dict = {}\n",
    "for index, s in enumerate(text):\n",
    "    start = index * 40\n",
    "    end = start + 40\n",
    "    char = text_pixels[start:end]\n",
    "    text_dict[s] = char"
   ]
  },
  {
   "cell_type": "markdown",
   "metadata": {},
   "source": [
    "### 5. Display\n",
    "Wait for input and display on the LED matrix"
   ]
  },
  {
   "cell_type": "code",
   "execution_count": 7,
   "metadata": {},
   "outputs": [],
   "source": [
    "buf = bytearray(193)\n",
    "buf[0] = 0"
   ]
  },
  {
   "cell_type": "code",
   "execution_count": 8,
   "metadata": {},
   "outputs": [
    {
     "name": "stdout",
     "output_type": "stream",
     "text": [
      "Please input a string(e.g.'HELLO,XILINX!') and press enter. Input 'C' to terminal.\n",
      "HELLO,XILINX!\n",
      "Please input a string(e.g.'HELLO,XILINX!') and press enter. Input 'C' to terminal.\n",
      "C\n"
     ]
    }
   ],
   "source": [
    "true = 1\n",
    "while true:\n",
    "    display = input(\"Please input a string(e.g.'HELLO,XILINX!') and press enter. Input 'C' to terminal.\\n\")\n",
    "    if(display == \"c\" or display == \"C\" ):\n",
    "        true = 0\n",
    "    else:\n",
    "        display = display + \" \"\n",
    "        for value in display:\n",
    "            for i in range(0,193) :\n",
    "                buf[i] = 0;\n",
    "            for y in range(1,8) :\n",
    "                for x in range(2,7) :\n",
    "                    buf[1+x+8*0+3*8*y] = int(text_dict[value][8*(6-x)+(y-1)][0]/20);\n",
    "                    buf[1+x+8*1+3*8*y] = 0;\n",
    "                    buf[1+x+8*2+3*8*y] = 0;\n",
    "            lib.i2c_write(device, LED_MATRIX_ADDRESS, buf, 193)\n",
    "            time.sleep(1)"
   ]
  },
  {
   "cell_type": "markdown",
   "metadata": {},
   "source": [
    "### 6.Clean up\n",
    "Close the I2C device and switch back the connection on the shared pin to PMODA header."
   ]
  },
  {
   "cell_type": "code",
   "execution_count": 9,
   "metadata": {},
   "outputs": [],
   "source": [
    "device.close()\n",
    "base.select_pmoda()"
   ]
  },
  {
   "cell_type": "code",
   "execution_count": null,
   "metadata": {},
   "outputs": [],
   "source": []
  }
 ],
 "metadata": {
  "kernelspec": {
   "display_name": "Python 3",
   "language": "python",
   "name": "python3"
  },
  "language_info": {
   "codemirror_mode": {
    "name": "ipython",
    "version": 3
   },
   "file_extension": ".py",
   "mimetype": "text/x-python",
   "name": "python",
   "nbconvert_exporter": "python",
   "pygments_lexer": "ipython3",
   "version": "3.7.1"
  }
 },
 "nbformat": 4,
 "nbformat_minor": 2
}
